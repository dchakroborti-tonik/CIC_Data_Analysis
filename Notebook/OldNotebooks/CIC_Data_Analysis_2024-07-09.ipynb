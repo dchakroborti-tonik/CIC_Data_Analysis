{
 "cells": [
  {
   "cell_type": "markdown",
   "metadata": {},
   "source": [
    "# <div align=\"center\" style=\"color: #ff5733;\">CIC Data Analysis</div>"
   ]
  },
  {
   "cell_type": "code",
   "execution_count": 2,
   "metadata": {},
   "outputs": [],
   "source": [
    "# %% [markdown]\n",
    "# # Jupyter Notebook Loading Header\n",
    "#\n",
    "# This is a custom loading header for Jupyter Notebooks in Visual Studio Code.\n",
    "# It includes common imports and settings to get you started quickly.\n",
    "\n",
    "# %% [markdown]\n",
    "## Import Libraries\n",
    "import pandas as pd\n",
    "import numpy as np\n",
    "import matplotlib.pyplot as plt\n",
    "import seaborn as sns\n",
    "from google.cloud import bigquery\n",
    "import os\n",
    "path = r'C:\\Users\\DwaipayanChakroborti\\AppData\\Roaming\\gcloud\\legacy_credentials\\dchakroborti@tonikbank.com\\adc.json'\n",
    "os.environ['GOOGLE_APPLICATION_CREDENTIALS'] = path\n",
    "client = bigquery.Client(project='prj-prod-dataplatform')\n",
    "\n",
    "# %% [markdown]\n",
    "## Configure Settings\n",
    "# Set options or configurations as needed\n",
    "pd.set_option('display.max_columns', None)\n",
    "pd.set_option('display.max_rows', 100)"
   ]
  },
  {
   "cell_type": "markdown",
   "metadata": {},
   "source": [
    "# Delinquency FSTPD30 Query with Loan Master"
   ]
  },
  {
   "cell_type": "code",
   "execution_count": 21,
   "metadata": {},
   "outputs": [
    {
     "name": "stdout",
     "output_type": "stream",
     "text": [
      "Job ID f20b24c5-2a4b-483d-a8fa-a615063b29cc successfully executed: |\u001b[32m          \u001b[0m|\n",
      "Downloading: 100%|\u001b[32m██████████\u001b[0m|\n",
      "The rows and columns in this delqdf are\t: (1510513, 11)\n"
     ]
    }
   ],
   "source": [
    "sq = \"\"\"WITH\n",
    "  delq AS (\n",
    "  SELECT\n",
    "    lmt.digitalLoanAccountId,\n",
    "    lmt.customerId,\n",
    "    lmt.new_loan_type,\n",
    "    lmt.applicationStatus,\n",
    "    lmt.loanPaidStatus,\n",
    "    ldd.loanAccountNumber,\n",
    "    lmt.flagApproval,\n",
    "    lmt.flagRejection,\n",
    "    DATE(FORMAT_DATE('%Y-%m-%d', DATE_TRUNC(lmt.startApplyDateTime, day))) Application_date,\n",
    "    CASE\n",
    "      WHEN ldd.obs_min_inst_def30 >=3 AND ldd.min_inst_def30 IN (1, 2, 3) THEN ldd.loanAccountNumber\n",
    "  END\n",
    "    fstpd30def,\n",
    "    CASE\n",
    "      WHEN ldd.obs_min_inst_def30 >=3 THEN ldd.loanAccountNumber\n",
    "  END\n",
    "    obsfstpd30\n",
    "  FROM\n",
    "    `risk_credit_mis.loan_master_table` lmt\n",
    "  LEFT JOIN\n",
    "    prj-prod-dataplatform.risk_credit_mis.loan_deliquency_data ldd\n",
    "  ON\n",
    "    ldd.loanAccountNumber = lmt.loanAccountNumber ),\n",
    "  base AS (\n",
    "  SELECT\n",
    "    digitalLoanAccountId,\n",
    "    customerId,\n",
    "    loanAccountNumber,\n",
    "    MAX(new_loan_type) loan_type,\n",
    "    MAX(Application_date) Application_date,\n",
    "    MAX(loanPaidStatus) loanPaidStatus,\n",
    "    MAX(applicationStatus) applicationStatus,\n",
    "    max(flagApproval) FlagApproved,\n",
    "    max(flagRejection) FlagRejected,\n",
    "    COUNT(DISTINCT fstpd30def) fstpd30,\n",
    "    COUNT(DISTINCT obsfstpd30) obsfstpd30\n",
    "  FROM\n",
    "    delq\n",
    "  GROUP BY\n",
    "    1,\n",
    "    2,\n",
    "    3 )select * from base;\"\"\"\n",
    "    \n",
    "delqdf = client.query(sq).to_dataframe(progress_bar_type = 'tqdm')\n",
    "print(f\"The rows and columns in this delqdf are\\t: {delqdf.shape}\")"
   ]
  },
  {
   "cell_type": "code",
   "execution_count": 22,
   "metadata": {},
   "outputs": [
    {
     "name": "stdout",
     "output_type": "stream",
     "text": [
      "<class 'pandas.core.frame.DataFrame'>\n",
      "RangeIndex: 1510513 entries, 0 to 1510512\n",
      "Data columns (total 11 columns):\n",
      " #   Column                Non-Null Count    Dtype \n",
      "---  ------                --------------    ----- \n",
      " 0   digitalLoanAccountId  1510513 non-null  object\n",
      " 1   customerId            1509704 non-null  Int64 \n",
      " 2   loanAccountNumber     140094 non-null   object\n",
      " 3   loan_type             1510513 non-null  object\n",
      " 4   Application_date      1236455 non-null  dbdate\n",
      " 5   loanPaidStatus        156077 non-null   object\n",
      " 6   applicationStatus     1510513 non-null  object\n",
      " 7   FlagApproved          1510513 non-null  Int64 \n",
      " 8   FlagRejected          1510513 non-null  Int64 \n",
      " 9   fstpd30               1510513 non-null  Int64 \n",
      " 10  obsfstpd30            1510513 non-null  Int64 \n",
      "dtypes: Int64(5), dbdate(1), object(5)\n",
      "memory usage: 134.0+ MB\n"
     ]
    }
   ],
   "source": [
    "delqdf.info()"
   ]
  },
  {
   "cell_type": "code",
   "execution_count": 23,
   "metadata": {},
   "outputs": [
    {
     "name": "stdout",
     "output_type": "stream",
     "text": [
      "NaN counts per column:\n",
      "digitalLoanAccountId          0\n",
      "customerId                  809\n",
      "loanAccountNumber       1370419\n",
      "loan_type                     0\n",
      "Application_date         274058\n",
      "loanPaidStatus          1354436\n",
      "applicationStatus             0\n",
      "FlagApproved                  0\n",
      "FlagRejected                  0\n",
      "fstpd30                       0\n",
      "obsfstpd30                    0\n",
      "dtype: int64\n"
     ]
    }
   ],
   "source": [
    "# Assuming delqdf is your DataFrame\n",
    "nan_counts = delqdf.isna().sum()\n",
    "\n",
    "print(\"NaN counts per column:\")\n",
    "print(nan_counts)"
   ]
  },
  {
   "cell_type": "code",
   "execution_count": 24,
   "metadata": {},
   "outputs": [],
   "source": [
    "# Replace pd.NA with NaN for consistency (if using pd.NA)\n",
    "delqdf['customerId'] = delqdf['customerId'].fillna(-1)\n",
    "delqdf['loanAccountNumber'] = delqdf['loanAccountNumber'].fillna('NA')"
   ]
  },
  {
   "cell_type": "code",
   "execution_count": 25,
   "metadata": {},
   "outputs": [],
   "source": [
    "# Convert 'application_date' column to datetime format\n",
    "delqdf['Application_date'] = pd.to_datetime(delqdf['Application_date'])\n",
    "# Replace NaT with a very old date within Pandas' supported range\n",
    "replace_date = pd.Timestamp.min\n",
    "delqdf['Application_date'] = delqdf['Application_date'].fillna(replace_date)"
   ]
  },
  {
   "cell_type": "code",
   "execution_count": 26,
   "metadata": {},
   "outputs": [
    {
     "data": {
      "text/html": [
       "<div>\n",
       "<style scoped>\n",
       "    .dataframe tbody tr th:only-of-type {\n",
       "        vertical-align: middle;\n",
       "    }\n",
       "\n",
       "    .dataframe tbody tr th {\n",
       "        vertical-align: top;\n",
       "    }\n",
       "\n",
       "    .dataframe thead th {\n",
       "        text-align: right;\n",
       "    }\n",
       "</style>\n",
       "<table border=\"1\" class=\"dataframe\">\n",
       "  <thead>\n",
       "    <tr style=\"text-align: right;\">\n",
       "      <th></th>\n",
       "      <th>digitalLoanAccountId</th>\n",
       "      <th>customerId</th>\n",
       "      <th>loanAccountNumber</th>\n",
       "      <th>loan_type</th>\n",
       "      <th>Application_date</th>\n",
       "      <th>loanPaidStatus</th>\n",
       "      <th>applicationStatus</th>\n",
       "      <th>FlagApproved</th>\n",
       "      <th>FlagRejected</th>\n",
       "      <th>fstpd30</th>\n",
       "      <th>obsfstpd30</th>\n",
       "    </tr>\n",
       "  </thead>\n",
       "  <tbody>\n",
       "    <tr>\n",
       "      <th>349144</th>\n",
       "      <td>c6923de8-575b-4f5a-a218-f5daa3359b7a</td>\n",
       "      <td>1383023</td>\n",
       "      <td>NA</td>\n",
       "      <td>Quick</td>\n",
       "      <td>2024-05-14 00:00:00.000000000</td>\n",
       "      <td>None</td>\n",
       "      <td>REJECT</td>\n",
       "      <td>0</td>\n",
       "      <td>1</td>\n",
       "      <td>0</td>\n",
       "      <td>0</td>\n",
       "    </tr>\n",
       "    <tr>\n",
       "      <th>1491527</th>\n",
       "      <td>6cf59733-6c2b-47f0-a979-71e923241b79</td>\n",
       "      <td>1972434</td>\n",
       "      <td>NA</td>\n",
       "      <td>Quick</td>\n",
       "      <td>1677-09-21 00:12:43.145224193</td>\n",
       "      <td>None</td>\n",
       "      <td>SKYCINITIATE</td>\n",
       "      <td>0</td>\n",
       "      <td>0</td>\n",
       "      <td>0</td>\n",
       "      <td>0</td>\n",
       "    </tr>\n",
       "    <tr>\n",
       "      <th>1307131</th>\n",
       "      <td>ba89e81b-f68a-4af1-9fc3-e7dfce3af685</td>\n",
       "      <td>2150282</td>\n",
       "      <td>NA</td>\n",
       "      <td>Flex</td>\n",
       "      <td>2023-07-22 00:00:00.000000000</td>\n",
       "      <td>None</td>\n",
       "      <td>CANCELLED</td>\n",
       "      <td>0</td>\n",
       "      <td>0</td>\n",
       "      <td>0</td>\n",
       "      <td>0</td>\n",
       "    </tr>\n",
       "    <tr>\n",
       "      <th>1472392</th>\n",
       "      <td>8f55e68b-2c54-410c-8e82-5f1b72ee87c6</td>\n",
       "      <td>2461781</td>\n",
       "      <td>NA</td>\n",
       "      <td>Quick</td>\n",
       "      <td>2024-04-12 00:00:00.000000000</td>\n",
       "      <td>None</td>\n",
       "      <td>CANCELLED</td>\n",
       "      <td>0</td>\n",
       "      <td>0</td>\n",
       "      <td>0</td>\n",
       "      <td>0</td>\n",
       "    </tr>\n",
       "    <tr>\n",
       "      <th>1308488</th>\n",
       "      <td>ebb0b6d5-8d23-43d8-9fb8-4edcb0b6d388</td>\n",
       "      <td>1678962</td>\n",
       "      <td>NA</td>\n",
       "      <td>Flex</td>\n",
       "      <td>1677-09-21 00:12:43.145224193</td>\n",
       "      <td>None</td>\n",
       "      <td>CANCELLED</td>\n",
       "      <td>0</td>\n",
       "      <td>0</td>\n",
       "      <td>0</td>\n",
       "      <td>0</td>\n",
       "    </tr>\n",
       "    <tr>\n",
       "      <th>358193</th>\n",
       "      <td>a7c6a833-26a9-45fe-8959-c8b9bcefe347</td>\n",
       "      <td>1738658</td>\n",
       "      <td>NA</td>\n",
       "      <td>Quick</td>\n",
       "      <td>1677-09-21 00:12:43.145224193</td>\n",
       "      <td>None</td>\n",
       "      <td>EXEMPT</td>\n",
       "      <td>0</td>\n",
       "      <td>0</td>\n",
       "      <td>0</td>\n",
       "      <td>0</td>\n",
       "    </tr>\n",
       "    <tr>\n",
       "      <th>977211</th>\n",
       "      <td>221a43f7-740a-4af2-a751-95efcdc85588</td>\n",
       "      <td>2343100</td>\n",
       "      <td>NA</td>\n",
       "      <td>Quick</td>\n",
       "      <td>2023-12-22 00:00:00.000000000</td>\n",
       "      <td>None</td>\n",
       "      <td>EXPIRED</td>\n",
       "      <td>0</td>\n",
       "      <td>1</td>\n",
       "      <td>0</td>\n",
       "      <td>0</td>\n",
       "    </tr>\n",
       "    <tr>\n",
       "      <th>905788</th>\n",
       "      <td>8fa9cda2-779e-417a-af6e-b4aed6c1bb03</td>\n",
       "      <td>1787583</td>\n",
       "      <td>NA</td>\n",
       "      <td>Flex</td>\n",
       "      <td>2022-11-21 00:00:00.000000000</td>\n",
       "      <td>None</td>\n",
       "      <td>EXPIRED</td>\n",
       "      <td>0</td>\n",
       "      <td>1</td>\n",
       "      <td>0</td>\n",
       "      <td>0</td>\n",
       "    </tr>\n",
       "    <tr>\n",
       "      <th>628094</th>\n",
       "      <td>018882c5-e839-4e8f-8e03-f9fb4372613e</td>\n",
       "      <td>2056714</td>\n",
       "      <td>NA</td>\n",
       "      <td>Quick</td>\n",
       "      <td>2023-05-22 00:00:00.000000000</td>\n",
       "      <td>None</td>\n",
       "      <td>REJECT</td>\n",
       "      <td>0</td>\n",
       "      <td>1</td>\n",
       "      <td>0</td>\n",
       "      <td>0</td>\n",
       "    </tr>\n",
       "    <tr>\n",
       "      <th>11852</th>\n",
       "      <td>9b9736a5-4e6f-4e1f-a1f1-fc23cc18b01f</td>\n",
       "      <td>1978306</td>\n",
       "      <td>NA</td>\n",
       "      <td>Quick</td>\n",
       "      <td>2023-04-05 00:00:00.000000000</td>\n",
       "      <td>None</td>\n",
       "      <td>RESET</td>\n",
       "      <td>0</td>\n",
       "      <td>0</td>\n",
       "      <td>0</td>\n",
       "      <td>0</td>\n",
       "    </tr>\n",
       "  </tbody>\n",
       "</table>\n",
       "</div>"
      ],
      "text/plain": [
       "                         digitalLoanAccountId  customerId loanAccountNumber  \\\n",
       "349144   c6923de8-575b-4f5a-a218-f5daa3359b7a     1383023                NA   \n",
       "1491527  6cf59733-6c2b-47f0-a979-71e923241b79     1972434                NA   \n",
       "1307131  ba89e81b-f68a-4af1-9fc3-e7dfce3af685     2150282                NA   \n",
       "1472392  8f55e68b-2c54-410c-8e82-5f1b72ee87c6     2461781                NA   \n",
       "1308488  ebb0b6d5-8d23-43d8-9fb8-4edcb0b6d388     1678962                NA   \n",
       "358193   a7c6a833-26a9-45fe-8959-c8b9bcefe347     1738658                NA   \n",
       "977211   221a43f7-740a-4af2-a751-95efcdc85588     2343100                NA   \n",
       "905788   8fa9cda2-779e-417a-af6e-b4aed6c1bb03     1787583                NA   \n",
       "628094   018882c5-e839-4e8f-8e03-f9fb4372613e     2056714                NA   \n",
       "11852    9b9736a5-4e6f-4e1f-a1f1-fc23cc18b01f     1978306                NA   \n",
       "\n",
       "        loan_type              Application_date loanPaidStatus  \\\n",
       "349144      Quick 2024-05-14 00:00:00.000000000           None   \n",
       "1491527     Quick 1677-09-21 00:12:43.145224193           None   \n",
       "1307131      Flex 2023-07-22 00:00:00.000000000           None   \n",
       "1472392     Quick 2024-04-12 00:00:00.000000000           None   \n",
       "1308488      Flex 1677-09-21 00:12:43.145224193           None   \n",
       "358193      Quick 1677-09-21 00:12:43.145224193           None   \n",
       "977211      Quick 2023-12-22 00:00:00.000000000           None   \n",
       "905788       Flex 2022-11-21 00:00:00.000000000           None   \n",
       "628094      Quick 2023-05-22 00:00:00.000000000           None   \n",
       "11852       Quick 2023-04-05 00:00:00.000000000           None   \n",
       "\n",
       "        applicationStatus  FlagApproved  FlagRejected  fstpd30  obsfstpd30  \n",
       "349144             REJECT             0             1        0           0  \n",
       "1491527      SKYCINITIATE             0             0        0           0  \n",
       "1307131         CANCELLED             0             0        0           0  \n",
       "1472392         CANCELLED             0             0        0           0  \n",
       "1308488         CANCELLED             0             0        0           0  \n",
       "358193             EXEMPT             0             0        0           0  \n",
       "977211            EXPIRED             0             1        0           0  \n",
       "905788            EXPIRED             0             1        0           0  \n",
       "628094             REJECT             0             1        0           0  \n",
       "11852               RESET             0             0        0           0  "
      ]
     },
     "execution_count": 26,
     "metadata": {},
     "output_type": "execute_result"
    }
   ],
   "source": [
    "delqdf.sample(10)"
   ]
  },
  {
   "cell_type": "code",
   "execution_count": 27,
   "metadata": {},
   "outputs": [
    {
     "data": {
      "text/plain": [
       "loan_type\n",
       "Quick                       1045316\n",
       "Flex                         294186\n",
       "SIL-Instore                  144102\n",
       "SIL-Online(discontinued)      13039\n",
       "Flex-up                       11565\n",
       "Big Loan                       2175\n",
       "ACL TSA                         130\n",
       "Name: count, dtype: int64"
      ]
     },
     "execution_count": 27,
     "metadata": {},
     "output_type": "execute_result"
    }
   ],
   "source": [
    "delqdf['loan_type'].value_counts()"
   ]
  },
  {
   "cell_type": "code",
   "execution_count": 28,
   "metadata": {},
   "outputs": [
    {
     "data": {
      "application/vnd.jupyter.widget-view+json": {
       "model_id": "cbf018b8d475413fab417f790e0518b5",
       "version_major": 2,
       "version_minor": 0
      },
      "text/plain": [
       "                                             |          | [  0%]   00:00 -> (? left)"
      ]
     },
     "metadata": {},
     "output_type": "display_data"
    },
    {
     "name": "stdout",
     "output_type": "stream",
     "text": [
      "Report delqloan.html was generated! NOTEBOOK/COLAB USERS: the web browser MAY not pop up, regardless, the report IS saved in your notebook/colab files.\n"
     ]
    }
   ],
   "source": [
    "import sweetviz as sv\n",
    "report = sv.analyze(delqdf, target_feat = 'fstpd30')\n",
    "report.show_html(\"delqloan.html\")\n"
   ]
  },
  {
   "cell_type": "code",
   "execution_count": null,
   "metadata": {},
   "outputs": [],
   "source": []
  }
 ],
 "metadata": {
  "kernelspec": {
   "display_name": "DataAnalysis",
   "language": "python",
   "name": "python3"
  },
  "language_info": {
   "codemirror_mode": {
    "name": "ipython",
    "version": 3
   },
   "file_extension": ".py",
   "mimetype": "text/x-python",
   "name": "python",
   "nbconvert_exporter": "python",
   "pygments_lexer": "ipython3",
   "version": "3.11.9"
  }
 },
 "nbformat": 4,
 "nbformat_minor": 2
}
